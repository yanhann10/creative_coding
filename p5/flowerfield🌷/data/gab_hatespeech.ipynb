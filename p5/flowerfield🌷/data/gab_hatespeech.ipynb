{
 "cells": [
  {
   "cell_type": "code",
   "execution_count": 3,
   "metadata": {},
   "outputs": [],
   "source": [
    "import os\n",
    "os.chdir('/Volumes/Transcend/00unzip')\n",
    "import json\n",
    "import ijson\n",
    "\n",
    "import pandas as pd"
   ]
  },
  {
   "cell_type": "code",
   "execution_count": 16,
   "metadata": {},
   "outputs": [
    {
     "data": {
      "text/html": [
       "<div>\n",
       "<style scoped>\n",
       "    .dataframe tbody tr th:only-of-type {\n",
       "        vertical-align: middle;\n",
       "    }\n",
       "\n",
       "    .dataframe tbody tr th {\n",
       "        vertical-align: top;\n",
       "    }\n",
       "\n",
       "    .dataframe thead th {\n",
       "        text-align: right;\n",
       "    }\n",
       "</style>\n",
       "<table border=\"1\" class=\"dataframe\">\n",
       "  <thead>\n",
       "    <tr style=\"text-align: right;\">\n",
       "      <th></th>\n",
       "      <th>username</th>\n",
       "      <th>body</th>\n",
       "      <th>ts</th>\n",
       "    </tr>\n",
       "  </thead>\n",
       "  <tbody>\n",
       "    <tr>\n",
       "      <th>0</th>\n",
       "      <td>Hogantwonk</td>\n",
       "      <td>What anyone thinks of guns doesn’t matter. It ...</td>\n",
       "      <td>2017-11-06T09:09:28+00:00</td>\n",
       "    </tr>\n",
       "    <tr>\n",
       "      <th>1</th>\n",
       "      <td>TwistedMemes</td>\n",
       "      <td>💔</td>\n",
       "      <td>2017-11-06T09:01:07+00:00</td>\n",
       "    </tr>\n",
       "    <tr>\n",
       "      <th>2</th>\n",
       "      <td>RealTrumpTweets</td>\n",
       "      <td>...Americans do what we do best: we pull toget...</td>\n",
       "      <td>2017-11-06T07:27:45+00:00</td>\n",
       "    </tr>\n",
       "    <tr>\n",
       "      <th>3</th>\n",
       "      <td>Fash_McQueen</td>\n",
       "      <td>It's becoming impossible to parody the Alt-Lit...</td>\n",
       "      <td>2017-11-06T09:09:16+00:00</td>\n",
       "    </tr>\n",
       "    <tr>\n",
       "      <th>4</th>\n",
       "      <td>RaviCrux</td>\n",
       "      <td>The media is complicit.\\nThey embolden these l...</td>\n",
       "      <td>2017-11-06T07:15:04+00:00</td>\n",
       "    </tr>\n",
       "  </tbody>\n",
       "</table>\n",
       "</div>"
      ],
      "text/plain": [
       "          username                                               body  \\\n",
       "0       Hogantwonk  What anyone thinks of guns doesn’t matter. It ...   \n",
       "1     TwistedMemes                                                  💔   \n",
       "2  RealTrumpTweets  ...Americans do what we do best: we pull toget...   \n",
       "3     Fash_McQueen  It's becoming impossible to parody the Alt-Lit...   \n",
       "4         RaviCrux  The media is complicit.\\nThey embolden these l...   \n",
       "\n",
       "                          ts  \n",
       "0  2017-11-06T09:09:28+00:00  \n",
       "1  2017-11-06T09:01:07+00:00  \n",
       "2  2017-11-06T07:27:45+00:00  \n",
       "3  2017-11-06T09:09:16+00:00  \n",
       "4  2017-11-06T07:15:04+00:00  "
      ]
     },
     "execution_count": 16,
     "metadata": {},
     "output_type": "execute_result"
    }
   ],
   "source": [
    "\n",
    "\n",
    "f = open('/Volumes/Transcend/00unzip/gab_posts_jan_2018.json')\n",
    "objects = ijson.items(f,'actuser.username')\n",
    "\n",
    "chunk=[]\n",
    "username=[]\n",
    "body=[]\n",
    "ts=[]\n",
    "\n",
    "i = 0\n",
    "for a in f:\n",
    "    line = json.loads(a)\n",
    "    username.append(line['actuser']['username'])\n",
    "    body.append(line['post']['body'])\n",
    "    ts.append(line['published_at'])\n",
    "    i = i+1\n",
    "    if i > 100000:\n",
    "        break\n",
    "                      \n",
    "df = pd.DataFrame(\n",
    "    {'username': username,\n",
    "     'body': body,\n",
    "     'ts': ts\n",
    "    })\n",
    "df.head()"
   ]
  },
  {
   "cell_type": "code",
   "execution_count": 17,
   "metadata": {},
   "outputs": [],
   "source": [
    "import sys\n",
    "df.to_csv('gab_snippet.csv')\n",
    "#100K record is ~18mb"
   ]
  }
 ],
 "metadata": {
  "kernelspec": {
   "display_name": "Python 3",
   "language": "python",
   "name": "python3"
  },
  "language_info": {
   "codemirror_mode": {
    "name": "ipython",
    "version": 3
   },
   "file_extension": ".py",
   "mimetype": "text/x-python",
   "name": "python",
   "nbconvert_exporter": "python",
   "pygments_lexer": "ipython3",
   "version": "3.6.0"
  }
 },
 "nbformat": 4,
 "nbformat_minor": 2
}
