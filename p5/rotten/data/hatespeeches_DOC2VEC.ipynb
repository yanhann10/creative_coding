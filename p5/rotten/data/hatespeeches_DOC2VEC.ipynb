{
 "cells": [
  {
   "cell_type": "code",
   "execution_count": 1,
   "metadata": {
    "collapsed": false
   },
   "outputs": [],
   "source": [
    "import gensim\n",
    "import pandas as pd\n",
    "import smart_open\n",
    "import random\n",
    "import logging\n",
    "%matplotlib inline\n",
    "#logging.basicConfig(format='%(asctime)s : %(levelname)s : %(message)s', level=logging.INFO)"
   ]
  },
  {
   "cell_type": "code",
   "execution_count": 2,
   "metadata": {},
   "outputs": [
    {
     "name": "stdout",
     "output_type": "stream",
     "text": [
      "(1302, 9)\n"
     ]
    },
    {
     "data": {
      "text/html": [
       "<div>\n",
       "<style scoped>\n",
       "    .dataframe tbody tr th:only-of-type {\n",
       "        vertical-align: middle;\n",
       "    }\n",
       "\n",
       "    .dataframe tbody tr th {\n",
       "        vertical-align: top;\n",
       "    }\n",
       "\n",
       "    .dataframe thead th {\n",
       "        text-align: right;\n",
       "    }\n",
       "</style>\n",
       "<table border=\"1\" class=\"dataframe\">\n",
       "  <thead>\n",
       "    <tr style=\"text-align: right;\">\n",
       "      <th></th>\n",
       "      <th>Unnamed: 0</th>\n",
       "      <th>id</th>\n",
       "      <th>comment_text</th>\n",
       "      <th>toxic</th>\n",
       "      <th>severe_toxic</th>\n",
       "      <th>obscene</th>\n",
       "      <th>threat</th>\n",
       "      <th>insult</th>\n",
       "      <th>identity_hate</th>\n",
       "    </tr>\n",
       "  </thead>\n",
       "  <tbody>\n",
       "    <tr>\n",
       "      <th>0</th>\n",
       "      <td>1</td>\n",
       "      <td>001810bf8c45bf5f</td>\n",
       "      <td>You are gay or antisemmitian? \\n\\nArchangel WH...</td>\n",
       "      <td>1</td>\n",
       "      <td>0</td>\n",
       "      <td>1</td>\n",
       "      <td>0</td>\n",
       "      <td>1</td>\n",
       "      <td>1</td>\n",
       "    </tr>\n",
       "    <tr>\n",
       "      <th>1</th>\n",
       "      <td>2</td>\n",
       "      <td>00472b8e2d38d1ea</td>\n",
       "      <td>A pair of jew-hating weiner nazi schmucks.</td>\n",
       "      <td>1</td>\n",
       "      <td>0</td>\n",
       "      <td>1</td>\n",
       "      <td>0</td>\n",
       "      <td>1</td>\n",
       "      <td>1</td>\n",
       "    </tr>\n",
       "    <tr>\n",
       "      <th>2</th>\n",
       "      <td>3</td>\n",
       "      <td>006b94add72ed61c</td>\n",
       "      <td>I think that your a Fagget get a oife and burn...</td>\n",
       "      <td>1</td>\n",
       "      <td>0</td>\n",
       "      <td>1</td>\n",
       "      <td>1</td>\n",
       "      <td>1</td>\n",
       "      <td>1</td>\n",
       "    </tr>\n",
       "    <tr>\n",
       "      <th>3</th>\n",
       "      <td>4</td>\n",
       "      <td>008e0818dde894fb</td>\n",
       "      <td>Kill all niggers. \\n\\nI have hard, that others...</td>\n",
       "      <td>1</td>\n",
       "      <td>0</td>\n",
       "      <td>1</td>\n",
       "      <td>0</td>\n",
       "      <td>1</td>\n",
       "      <td>1</td>\n",
       "    </tr>\n",
       "    <tr>\n",
       "      <th>4</th>\n",
       "      <td>5</td>\n",
       "      <td>0097dd5c29bf7a15</td>\n",
       "      <td>u r a tw@ fuck off u gay boy.U r smelly.Fuck u...</td>\n",
       "      <td>1</td>\n",
       "      <td>0</td>\n",
       "      <td>1</td>\n",
       "      <td>0</td>\n",
       "      <td>1</td>\n",
       "      <td>1</td>\n",
       "    </tr>\n",
       "  </tbody>\n",
       "</table>\n",
       "</div>"
      ],
      "text/plain": [
       "   Unnamed: 0                id  \\\n",
       "0           1  001810bf8c45bf5f   \n",
       "1           2  00472b8e2d38d1ea   \n",
       "2           3  006b94add72ed61c   \n",
       "3           4  008e0818dde894fb   \n",
       "4           5  0097dd5c29bf7a15   \n",
       "\n",
       "                                        comment_text  toxic  severe_toxic  \\\n",
       "0  You are gay or antisemmitian? \\n\\nArchangel WH...      1             0   \n",
       "1         A pair of jew-hating weiner nazi schmucks.      1             0   \n",
       "2  I think that your a Fagget get a oife and burn...      1             0   \n",
       "3  Kill all niggers. \\n\\nI have hard, that others...      1             0   \n",
       "4  u r a tw@ fuck off u gay boy.U r smelly.Fuck u...      1             0   \n",
       "\n",
       "   obscene  threat  insult  identity_hate  \n",
       "0        1       0       1              1  \n",
       "1        1       0       1              1  \n",
       "2        1       1       1              1  \n",
       "3        1       0       1              1  \n",
       "4        1       0       1              1  "
      ]
     },
     "execution_count": 2,
     "metadata": {},
     "output_type": "execute_result"
    }
   ],
   "source": [
    "dataframe=pd.read_csv('df_hatespeech.csv')\n",
    "print(dataframe.shape)\n",
    "dataframe.head()"
   ]
  },
  {
   "cell_type": "code",
   "execution_count": 4,
   "metadata": {
    "collapsed": true
   },
   "outputs": [],
   "source": [
    "def read_corpus(documents):\n",
    "    for i, text in enumerate(documents):\n",
    "        yield gensim.models.doc2vec.TaggedDocument(gensim.utils.simple_preprocess(text), [i])"
   ]
  },
  {
   "cell_type": "code",
   "execution_count": 5,
   "metadata": {
    "collapsed": true
   },
   "outputs": [],
   "source": [
    "train_corpus = list(read_corpus(dataframe.comment_text))"
   ]
  },
  {
   "cell_type": "code",
   "execution_count": 6,
   "metadata": {
    "collapsed": false
   },
   "outputs": [
    {
     "data": {
      "text/plain": [
       "[TaggedDocument(words=['you', 'are', 'gay', 'or', 'antisemmitian', 'archangel', 'white', 'tiger', 'meow', 'greetingshhh', 'uh', 'there', 'are', 'two', 'ways', 'why', 'you', 'do', 'erased', 'my', 'comment', 'about', 'ww', 'that', 'holocaust', 'was', 'brutally', 'slaying', 'of', 'jews', 'and', 'not', 'gays', 'gypsys', 'slavs', 'anyone', 'if', 'you', 'are', 'anti', 'semitian', 'than', 'shave', 'your', 'head', 'bald', 'and', 'go', 'to', 'the', 'skinhead', 'meetings', 'if', 'you', 'doubt', 'words', 'of', 'the', 'bible', 'that', 'homosexuality', 'is', 'deadly', 'sin', 'make', 'pentagram', 'tatoo', 'on', 'your', 'forehead', 'go', 'to', 'the', 'satanistic', 'masses', 'with', 'your', 'gay', 'pals', 'first', 'and', 'last', 'warning', 'you', 'fucking', 'gay', 'won', 'appreciate', 'if', 'any', 'more', 'nazi', 'shwain', 'would', 'write', 'in', 'my', 'page', 'don', 'wish', 'to', 'talk', 'to', 'you', 'anymore', 'beware', 'of', 'the', 'dark', 'side'], tags=[0]),\n",
       " TaggedDocument(words=['pair', 'of', 'jew', 'hating', 'weiner', 'nazi', 'schmucks'], tags=[1])]"
      ]
     },
     "execution_count": 6,
     "metadata": {},
     "output_type": "execute_result"
    }
   ],
   "source": [
    "train_corpus[:2]"
   ]
  },
  {
   "cell_type": "code",
   "execution_count": 7,
   "metadata": {
    "collapsed": false
   },
   "outputs": [
    {
     "name": "stderr",
     "output_type": "stream",
     "text": [
      "/Library/Frameworks/Python.framework/Versions/3.6/lib/python3.6/site-packages/gensim/models/doc2vec.py:570: UserWarning: The parameter `size` is deprecated, will be removed in 4.0.0, use `vector_size` instead.\n",
      "  warnings.warn(\"The parameter `size` is deprecated, will be removed in 4.0.0, use `vector_size` instead.\")\n",
      "/Library/Frameworks/Python.framework/Versions/3.6/lib/python3.6/site-packages/ipykernel/__main__.py:1: DeprecationWarning: Call to deprecated `iter` (Attribute will be removed in 4.0.0, use self.epochs instead).\n",
      "  if __name__ == '__main__':\n"
     ]
    },
    {
     "name": "stdout",
     "output_type": "stream",
     "text": [
      "CPU times: user 8.03 s, sys: 1.44 s, total: 9.48 s\n",
      "Wall time: 5.79 s\n"
     ]
    }
   ],
   "source": [
    "model = gensim.models.doc2vec.Doc2Vec(size=50, min_count=2, epochs=55)\n",
    "model.build_vocab(train_corpus)\n",
    "%time model.train(train_corpus, total_examples=model.corpus_count, epochs=model.iter)"
   ]
  },
  {
   "cell_type": "code",
   "execution_count": 8,
   "metadata": {
    "collapsed": false
   },
   "outputs": [
    {
     "data": {
      "text/plain": [
       "array([ 0.02908663, -0.08862749, -0.05480144, -0.01225066, -0.05300531,\n",
       "       -0.06304386, -0.15741862, -0.15425152,  0.154194  ,  0.01161947,\n",
       "        0.04499703, -0.0570045 ,  0.1766961 , -0.09118516, -0.20208587,\n",
       "        0.04315641, -0.05362174,  0.16048111, -0.06156814, -0.12758511,\n",
       "        0.02418789, -0.05931319,  0.17633073,  0.35294265, -0.19740956,\n",
       "       -0.2732477 ,  0.34324953,  0.05695618,  0.24782337,  0.01652817,\n",
       "       -0.0875375 , -0.03205788, -0.03376768, -0.20613374, -0.11109994,\n",
       "        0.10760272,  0.01772364,  0.26185992,  0.23442616, -0.3088764 ,\n",
       "       -0.07362289, -0.29708365,  0.13698104, -0.07016011, -0.02536455,\n",
       "        0.18497843, -0.00711946, -0.05340123, -0.368935  , -0.14733508],\n",
       "      dtype=float32)"
      ]
     },
     "execution_count": 8,
     "metadata": {},
     "output_type": "execute_result"
    }
   ],
   "source": [
    "model[1]"
   ]
  },
  {
   "cell_type": "code",
   "execution_count": 9,
   "metadata": {
    "collapsed": false
   },
   "outputs": [
    {
     "name": "stdout",
     "output_type": "stream",
     "text": [
      "[(778, 0.8515352606773376),\n",
      " (26, 0.8367230296134949),\n",
      " (1145, 0.8292140364646912),\n",
      " (916, 0.8290274143218994),\n",
      " (1103, 0.8239139914512634),\n",
      " (1270, 0.8212392330169678),\n",
      " (52, 0.7987248301506042),\n",
      " (1166, 0.7985961437225342),\n",
      " (501, 0.7942385077476501),\n",
      " (998, 0.7900999784469604),\n",
      " (1225, 0.7796134352684021),\n",
      " (715, 0.7791391015052795),\n",
      " (421, 0.7768442630767822),\n",
      " (1205, 0.7756721377372742),\n",
      " (1042, 0.7725451588630676),\n",
      " (802, 0.772423267364502),\n",
      " (155, 0.7715378999710083),\n",
      " (174, 0.771240234375),\n",
      " (801, 0.7692944407463074),\n",
      " (1248, 0.7670034766197205),\n",
      " (1263, 0.7662985920906067),\n",
      " (1043, 0.7658478021621704),\n",
      " (391, 0.7657653093338013),\n",
      " (532, 0.7632554769515991),\n",
      " (295, 0.7605951428413391),\n",
      " (872, 0.7553684115409851),\n",
      " (29, 0.7540009617805481),\n",
      " (225, 0.7514206767082214),\n",
      " (895, 0.7456158995628357),\n",
      " (910, 0.7438774704933167),\n",
      " (177, 0.7432081699371338),\n",
      " (76, 0.7412213683128357),\n",
      " (345, 0.7408993244171143),\n",
      " (616, 0.7388921976089478),\n",
      " (1107, 0.7377802729606628),\n",
      " (1031, 0.7376158237457275),\n",
      " (613, 0.7363510727882385),\n",
      " (634, 0.7353147268295288),\n",
      " (1133, 0.7347623705863953),\n",
      " (435, 0.7342181205749512)]\n"
     ]
    },
    {
     "name": "stderr",
     "output_type": "stream",
     "text": [
      "/Library/Frameworks/Python.framework/Versions/3.6/lib/python3.6/site-packages/gensim/matutils.py:737: FutureWarning:\n",
      "\n",
      "Conversion of the second argument of issubdtype from `int` to `np.signedinteger` is deprecated. In future, it will be treated as `np.int64 == np.dtype(int).type`.\n",
      "\n"
     ]
    }
   ],
   "source": [
    "from pprint import pprint\n",
    "pprint(model.docvecs.most_similar(positive=[1], topn=40))"
   ]
  },
  {
   "cell_type": "code",
   "execution_count": 10,
   "metadata": {
    "collapsed": false
   },
   "outputs": [
    {
     "data": {
      "text/plain": [
       "TaggedDocument(words=['pair', 'of', 'jew', 'hating', 'weiner', 'nazi', 'schmucks'], tags=[1])"
      ]
     },
     "execution_count": 10,
     "metadata": {},
     "output_type": "execute_result"
    }
   ],
   "source": [
    "train_corpus[1]"
   ]
  },
  {
   "cell_type": "code",
   "execution_count": 11,
   "metadata": {},
   "outputs": [
    {
     "data": {
      "text/plain": [
       "TaggedDocument(words=['jew', 'supremacist', 'liar'], tags=[1145])"
      ]
     },
     "execution_count": 11,
     "metadata": {},
     "output_type": "execute_result"
    }
   ],
   "source": [
    "train_corpus[1145]"
   ]
  },
  {
   "cell_type": "code",
   "execution_count": 12,
   "metadata": {},
   "outputs": [
    {
     "data": {
      "text/plain": [
       "TaggedDocument(words=['dennis', 'bratland', 'is', 'homophob', 'british', 'bastard', 'who', 'dislikes', 'germany', 'typicial', 'british', 'asshole', 'with', 'homophob', 'thinking'], tags=[916])"
      ]
     },
     "execution_count": 12,
     "metadata": {},
     "output_type": "execute_result"
    }
   ],
   "source": [
    "train_corpus[916]"
   ]
  },
  {
   "cell_type": "code",
   "execution_count": 13,
   "metadata": {},
   "outputs": [
    {
     "data": {
      "text/plain": [
       "TaggedDocument(words=['fuck', 'of', 'nazi', 'propaganda', 'odpierdalcie', 'sie', 'jebani', 'faszyści', 'od', 'polski'], tags=[26])"
      ]
     },
     "execution_count": 13,
     "metadata": {},
     "output_type": "execute_result"
    }
   ],
   "source": [
    "train_corpus[26]"
   ]
  },
  {
   "cell_type": "code",
   "execution_count": 14,
   "metadata": {},
   "outputs": [
    {
     "data": {
      "text/plain": [
       "TaggedDocument(words=['same', 'ukraininan', 'vandal', 'same', 'to', 'who', 'russian', 'nazi', 'stop', 'drinking', 'vodka'], tags=[1031])"
      ]
     },
     "execution_count": 14,
     "metadata": {},
     "output_type": "execute_result"
    }
   ],
   "source": [
    "train_corpus[1031]"
   ]
  },
  {
   "cell_type": "code",
   "execution_count": 16,
   "metadata": {
    "collapsed": true
   },
   "outputs": [],
   "source": [
    "model.save_word2vec_format('doc_tensor_hate_speech.w2v', doctag_vec=True, word_vec=False)"
   ]
  },
  {
   "cell_type": "code",
   "execution_count": 17,
   "metadata": {
    "collapsed": true
   },
   "outputs": [],
   "source": [
    "model.save('doc_tensor_hate_speech.doc2vec')"
   ]
  },
  {
   "cell_type": "code",
   "execution_count": 18,
   "metadata": {
    "collapsed": true
   },
   "outputs": [],
   "source": [
    "model = gensim.models.Word2Vec.load('doc_tensor_hate_speech.doc2vec')"
   ]
  },
  {
   "cell_type": "code",
   "execution_count": 19,
   "metadata": {},
   "outputs": [
    {
     "name": "stderr",
     "output_type": "stream",
     "text": [
      "/Library/Frameworks/Python.framework/Versions/3.6/lib/python3.6/site-packages/ipykernel/__main__.py:1: DeprecationWarning:\n",
      "\n",
      "Call to deprecated `doctag_syn0` (Attribute will be removed in 4.0.0, use docvecs.vectors_docs instead).\n",
      "\n"
     ]
    },
    {
     "data": {
      "text/plain": [
       "array([-0.08487212, -0.28215295,  0.01534566,  0.08210229,  0.07808462,\n",
       "        0.337209  , -0.28569847,  0.12377042, -0.52698165, -0.32116967,\n",
       "        0.06146424, -0.07108688, -0.23234758, -0.16932862,  0.18451504,\n",
       "       -0.26301047, -0.24130441,  0.1715271 , -0.01919192, -0.13159534,\n",
       "       -0.75547206, -0.40079397,  0.07263236,  0.06580207, -0.13298033,\n",
       "        0.36750665,  0.17373224,  0.16020541,  0.19868205, -0.25371897,\n",
       "        0.4932829 ,  0.17150818,  0.08306328,  0.21169275,  0.13686074,\n",
       "       -0.4031814 , -0.06533534,  0.01236428, -0.13675852,  0.37916043,\n",
       "       -0.05383887,  0.15153517,  0.29396564, -0.25825965,  0.04782081,\n",
       "        0.04338853,  0.02482241,  0.00825431,  0.32934427,  0.05534486],\n",
       "      dtype=float32)"
      ]
     },
     "execution_count": 19,
     "metadata": {},
     "output_type": "execute_result"
    }
   ],
   "source": [
    "model.docvecs.doctag_syn0[23]"
   ]
  },
  {
   "cell_type": "code",
   "execution_count": 20,
   "metadata": {
    "collapsed": false
   },
   "outputs": [
    {
     "name": "stdout",
     "output_type": "stream",
     "text": [
      "[(778, 0.8515352606773376),\n",
      " (26, 0.8367230296134949),\n",
      " (1145, 0.8292140364646912),\n",
      " (916, 0.8290274143218994),\n",
      " (1103, 0.8239139914512634),\n",
      " (1270, 0.8212392330169678),\n",
      " (52, 0.7987248301506042),\n",
      " (1166, 0.7985961437225342),\n",
      " (501, 0.7942385077476501),\n",
      " (998, 0.7900999784469604)]\n"
     ]
    },
    {
     "name": "stderr",
     "output_type": "stream",
     "text": [
      "/Library/Frameworks/Python.framework/Versions/3.6/lib/python3.6/site-packages/gensim/matutils.py:737: FutureWarning:\n",
      "\n",
      "Conversion of the second argument of issubdtype from `int` to `np.signedinteger` is deprecated. In future, it will be treated as `np.int64 == np.dtype(int).type`.\n",
      "\n"
     ]
    }
   ],
   "source": [
    "from pprint import pprint\n",
    "pprint(model.docvecs.most_similar(positive=[1], topn=10))"
   ]
  },
  {
   "cell_type": "code",
   "execution_count": 9,
   "metadata": {
    "collapsed": true
   },
   "outputs": [],
   "source": [
    "from sklearn.cluster import KMeans"
   ]
  },
  {
   "cell_type": "code",
   "execution_count": 11,
   "metadata": {
    "collapsed": false
   },
   "outputs": [],
   "source": [
    "doc_vectors = model.docvecs.vectors_docs"
   ]
  },
  {
   "cell_type": "code",
   "execution_count": 24,
   "metadata": {},
   "outputs": [
    {
     "data": {
      "text/html": [
       "<script type=\"text/javascript\">window.PlotlyConfig = {MathJaxConfig: 'local'};</script><script type=\"text/javascript\">if (window.MathJax) {MathJax.Hub.Config({SVG: {font: \"STIX-Web\"}});}</script><script>requirejs.config({paths: { 'plotly': ['https://cdn.plot.ly/plotly-latest.min']},});if(!window._Plotly) {require(['plotly'],function(plotly) {window._Plotly=plotly;});}</script>"
      ],
      "text/vnd.plotly.v1+html": [
       "<script type=\"text/javascript\">window.PlotlyConfig = {MathJaxConfig: 'local'};</script><script type=\"text/javascript\">if (window.MathJax) {MathJax.Hub.Config({SVG: {font: \"STIX-Web\"}});}</script><script>requirejs.config({paths: { 'plotly': ['https://cdn.plot.ly/plotly-latest.min']},});if(!window._Plotly) {require(['plotly'],function(plotly) {window._Plotly=plotly;});}</script>"
      ]
     },
     "metadata": {},
     "output_type": "display_data"
    },
    {
     "data": {
      "text/html": [
       "<script type=\"text/javascript\">window.PlotlyConfig = {MathJaxConfig: 'local'};</script><script type=\"text/javascript\">if (window.MathJax) {MathJax.Hub.Config({SVG: {font: \"STIX-Web\"}});}</script><script>requirejs.config({paths: { 'plotly': ['https://cdn.plot.ly/plotly-latest.min']},});if(!window._Plotly) {require(['plotly'],function(plotly) {window._Plotly=plotly;});}</script>"
      ],
      "text/vnd.plotly.v1+html": [
       "<script type=\"text/javascript\">window.PlotlyConfig = {MathJaxConfig: 'local'};</script><script type=\"text/javascript\">if (window.MathJax) {MathJax.Hub.Config({SVG: {font: \"STIX-Web\"}});}</script><script>requirejs.config({paths: { 'plotly': ['https://cdn.plot.ly/plotly-latest.min']},});if(!window._Plotly) {require(['plotly'],function(plotly) {window._Plotly=plotly;});}</script>"
      ]
     },
     "metadata": {},
     "output_type": "display_data"
    }
   ],
   "source": [
    "import plotly.plotly as py\n",
    "import plotly.graph_objs as go\n",
    "from plotly.offline import iplot, init_notebook_mode\n",
    "# Using plotly + cufflinks in offline mode\n",
    "import cufflinks\n",
    "cufflinks.go_offline(connected=True)\n",
    "init_notebook_mode(connected=True)"
   ]
  },
  {
   "cell_type": "code",
   "execution_count": 12,
   "metadata": {},
   "outputs": [],
   "source": [
    "from sklearn.manifold import TSNE\n",
    "tsne = TSNE(n_components=2, random_state=0)\n",
    "X_2d = tsne.fit_transform(doc_vectors)"
   ]
  },
  {
   "cell_type": "code",
   "execution_count": 18,
   "metadata": {},
   "outputs": [
    {
     "data": {
      "text/plain": [
       "(1302, 2)"
      ]
     },
     "execution_count": 18,
     "metadata": {},
     "output_type": "execute_result"
    }
   ],
   "source": [
    "pd.DataFrame(X_2d).shape"
   ]
  },
  {
   "cell_type": "code",
   "execution_count": 52,
   "metadata": {},
   "outputs": [
    {
     "data": {
      "text/html": [
       "<div>\n",
       "<style scoped>\n",
       "    .dataframe tbody tr th:only-of-type {\n",
       "        vertical-align: middle;\n",
       "    }\n",
       "\n",
       "    .dataframe tbody tr th {\n",
       "        vertical-align: top;\n",
       "    }\n",
       "\n",
       "    .dataframe thead th {\n",
       "        text-align: right;\n",
       "    }\n",
       "</style>\n",
       "<table border=\"1\" class=\"dataframe\">\n",
       "  <thead>\n",
       "    <tr style=\"text-align: right;\">\n",
       "      <th></th>\n",
       "      <th>0</th>\n",
       "      <th>1</th>\n",
       "      <th>2</th>\n",
       "    </tr>\n",
       "  </thead>\n",
       "  <tbody>\n",
       "    <tr>\n",
       "      <th>0</th>\n",
       "      <td>1.769783</td>\n",
       "      <td>35.967884</td>\n",
       "      <td>You are gay or antisemmitian? \\n\\nArchangel WH...</td>\n",
       "    </tr>\n",
       "    <tr>\n",
       "      <th>1</th>\n",
       "      <td>-2.575996</td>\n",
       "      <td>6.644322</td>\n",
       "      <td>A pair of jew-hating weiner nazi schmucks.</td>\n",
       "    </tr>\n",
       "    <tr>\n",
       "      <th>2</th>\n",
       "      <td>-14.218966</td>\n",
       "      <td>9.822114</td>\n",
       "      <td>I think that your a Fagget get a oife and burn...</td>\n",
       "    </tr>\n",
       "    <tr>\n",
       "      <th>3</th>\n",
       "      <td>-12.278579</td>\n",
       "      <td>15.776025</td>\n",
       "      <td>Kill all niggers. \\n\\nI have hard, that others...</td>\n",
       "    </tr>\n",
       "    <tr>\n",
       "      <th>4</th>\n",
       "      <td>-8.870206</td>\n",
       "      <td>-11.881571</td>\n",
       "      <td>u r a tw@ fuck off u gay boy.U r smelly.Fuck u...</td>\n",
       "    </tr>\n",
       "    <tr>\n",
       "      <th>5</th>\n",
       "      <td>7.112419</td>\n",
       "      <td>5.311335</td>\n",
       "      <td>Gay \\n\\nThe existence of CDVF is further proof...</td>\n",
       "    </tr>\n",
       "    <tr>\n",
       "      <th>6</th>\n",
       "      <td>31.436954</td>\n",
       "      <td>-8.794577</td>\n",
       "      <td>Dictionaries\\n\\nHow dare you call my contribut...</td>\n",
       "    </tr>\n",
       "    <tr>\n",
       "      <th>7</th>\n",
       "      <td>17.635603</td>\n",
       "      <td>-7.954718</td>\n",
       "      <td>you gay motherfucker i know where you live,i a...</td>\n",
       "    </tr>\n",
       "    <tr>\n",
       "      <th>8</th>\n",
       "      <td>18.178579</td>\n",
       "      <td>-5.172002</td>\n",
       "      <td>you studid cock sucker u stop callin me ok its...</td>\n",
       "    </tr>\n",
       "    <tr>\n",
       "      <th>9</th>\n",
       "      <td>25.605017</td>\n",
       "      <td>-1.305392</td>\n",
       "      <td>WOULDN'T BE THE FIRST TIME BITCH. FUCK YOU I'L...</td>\n",
       "    </tr>\n",
       "  </tbody>\n",
       "</table>\n",
       "</div>"
      ],
      "text/plain": [
       "           0          1                                                  2\n",
       "0   1.769783  35.967884  You are gay or antisemmitian? \\n\\nArchangel WH...\n",
       "1  -2.575996   6.644322         A pair of jew-hating weiner nazi schmucks.\n",
       "2 -14.218966   9.822114  I think that your a Fagget get a oife and burn...\n",
       "3 -12.278579  15.776025  Kill all niggers. \\n\\nI have hard, that others...\n",
       "4  -8.870206 -11.881571  u r a tw@ fuck off u gay boy.U r smelly.Fuck u...\n",
       "5   7.112419   5.311335  Gay \\n\\nThe existence of CDVF is further proof...\n",
       "6  31.436954  -8.794577  Dictionaries\\n\\nHow dare you call my contribut...\n",
       "7  17.635603  -7.954718  you gay motherfucker i know where you live,i a...\n",
       "8  18.178579  -5.172002  you studid cock sucker u stop callin me ok its...\n",
       "9  25.605017  -1.305392  WOULDN'T BE THE FIRST TIME BITCH. FUCK YOU I'L..."
      ]
     },
     "execution_count": 52,
     "metadata": {},
     "output_type": "execute_result"
    }
   ],
   "source": [
    "df_combine = pd.concat([pd.DataFrame(X_2d), dataframe['comment_text']], ignore_index=True, axis=1)\n",
    "df_combine[2]=df_combine[2].str.replace(\"\\\"\",\"\").str.lstrip()\n",
    "df_combine.head(10)"
   ]
  },
  {
   "cell_type": "code",
   "execution_count": 46,
   "metadata": {},
   "outputs": [],
   "source": [
    "df_combine.to_csv('tsne_output.csv',index_label=None)"
   ]
  },
  {
   "cell_type": "code",
   "execution_count": 14,
   "metadata": {},
   "outputs": [
    {
     "data": {
      "text/plain": [
       "<matplotlib.collections.PathCollection at 0x123dc62e8>"
      ]
     },
     "execution_count": 14,
     "metadata": {},
     "output_type": "execute_result"
    },
    {
     "data": {
      "image/png": "[encoded data removed]",
      "text/plain": [
       "<Figure size 432x288 with 1 Axes>"
      ]
     },
     "metadata": {},
     "output_type": "display_data"
    }
   ],
   "source": [
    "from matplotlib import pyplot as plt\n",
    "%matplotlib inline\n",
    "plt.scatter(X_2d[:,0], X_2d[:,1])"
   ]
  },
  {
   "cell_type": "code",
   "execution_count": 28,
   "metadata": {
    "collapsed": true
   },
   "outputs": [],
   "source": [
    "from sklearn.cluster import KMeans\n",
    "num_clusters = 10\n",
    "kmeans_clustering = KMeans( n_clusters = num_clusters )"
   ]
  },
  {
   "cell_type": "code",
   "execution_count": 29,
   "metadata": {
    "collapsed": true
   },
   "outputs": [],
   "source": [
    "idx = kmeans_clustering.fit_predict( doc_vectors )"
   ]
  },
  {
   "cell_type": "code",
   "execution_count": 30,
   "metadata": {
    "collapsed": false
   },
   "outputs": [],
   "source": [
    "d = []\n",
    "word_centroid_list = list(zip(model.docvecs.offset2doctag, idx))\n",
    "word_centroid_list_sort = sorted(word_centroid_list, key=lambda el: el[1], reverse=False)\n",
    "for word_centroid in word_centroid_list_sort:\n",
    "    line = word_centroid[0] + '\\t' + str(word_centroid[1]) + '\\n'\n",
    "    print(line)\n",
    "    d.append({'artist': word_centroid[0], 'category': word_centroid[1]})"
   ]
  },
  {
   "cell_type": "code",
   "execution_count": 31,
   "metadata": {
    "collapsed": true
   },
   "outputs": [
    {
     "data": {
      "text/html": [
       "<div>\n",
       "<style scoped>\n",
       "    .dataframe tbody tr th:only-of-type {\n",
       "        vertical-align: middle;\n",
       "    }\n",
       "\n",
       "    .dataframe tbody tr th {\n",
       "        vertical-align: top;\n",
       "    }\n",
       "\n",
       "    .dataframe thead th {\n",
       "        text-align: right;\n",
       "    }\n",
       "</style>\n",
       "<table border=\"1\" class=\"dataframe\">\n",
       "  <thead>\n",
       "    <tr style=\"text-align: right;\">\n",
       "      <th></th>\n",
       "    </tr>\n",
       "  </thead>\n",
       "  <tbody>\n",
       "  </tbody>\n",
       "</table>\n",
       "</div>"
      ],
      "text/plain": [
       "Empty DataFrame\n",
       "Columns: []\n",
       "Index: []"
      ]
     },
     "execution_count": 31,
     "metadata": {},
     "output_type": "execute_result"
    }
   ],
   "source": [
    "df = pd.DataFrame(d)\n",
    "df.head()"
   ]
  }
 ],
 "metadata": {
  "anaconda-cloud": {},
  "kernelspec": {
   "display_name": "Python 3",
   "language": "python",
   "name": "python3"
  },
  "language_info": {
   "codemirror_mode": {
    "name": "ipython",
    "version": 3
   },
   "file_extension": ".py",
   "mimetype": "text/x-python",
   "name": "python",
   "nbconvert_exporter": "python",
   "pygments_lexer": "ipython3",
   "version": "3.6.0"
  }
 },
 "nbformat": 4,
 "nbformat_minor": 2
}
